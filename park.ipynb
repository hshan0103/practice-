# -*- coding: utf-8 -*-
"""
Created on Tue Jun  9 13:10:46 2020

@author: Hshan
"""


from datetime import datetime
import math 

fmt = "%Y-%m-%d %H:%M:%S"

rates = {
    'first_2hrs': 5, # first 2 hours charges 
    'sub_hr' : 3, #per hour
    'max_charge': 60, 
    'per_day': 50,
    }

#Assumption
#   maximum charge per day is 60
#   parking duration>=1days is calculated by 'per day' rate

def parking_rate(timeIn, timeOut, rates):
    delta_day = (timeOut- timeIn).days
    delta = (timeOut - timeIn)
    
    if (timeOut.day - timeIn.day) ==0:
        delta_hr = delta.seconds/3600
        if delta_hr <= 2:
            parking_fee = rates['first_2hrs']
#        elif delta>max_delta:
#           parking_fee = rates['max_charge']
        else: 
            parking_fee = rates['first_2hrs'] + (math.ceil(delta_hr)-2)*rates['sub_hr']
            if (parking_fee > rates['max_charge']):
                parking_fee = rates['max_charge']
    
    else:
        
        if delta.days == 0:
            parking_fee = rates['per_day']
        else:
            if delta.seconds > 60:
                parking_fee = (delta_day+1)*rates['per_day']
            else:
                parking_fee = (delta_day)*rates['per_day']
        
    return parking_fee

timeIn = datetime.strptime(input('Entry time: '),fmt)
timeOut = datetime.strptime(input('Out time: '),fmt)

print('Fee payable: ', parking_rate(timeIn,timeOut,rates))


#    else: 
#        delta_month = (timeOut- timeIn).days//30
#        remain_day = (timeOut- timeIn).days%30
#        parking_fee = delta_month*rates['per_month'] + remain_day*rates['per_day']
        